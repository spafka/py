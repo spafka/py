{
 "cells": [
  {
   "cell_type": "code",
   "execution_count": 2,
   "outputs": [],
   "source": [
    "import pandas as pd\n",
    "\n",
    "df = pd.read_excel('./入学测试题_10.xlsx', sheet_name=1)\n",
    "\n"
   ],
   "metadata": {
    "collapsed": false,
    "ExecuteTime": {
     "end_time": "2024-10-09T12:31:49.049291Z",
     "start_time": "2024-10-09T12:31:47.381477Z"
    }
   },
   "id": "initial_id"
  },
  {
   "cell_type": "code",
   "execution_count": 3,
   "outputs": [
    {
     "name": "stdout",
     "output_type": "stream",
     "text": [
      "  name  age\n",
      "0   张三   30\n",
      "1   李四   50\n"
     ]
    }
   ],
   "source": [
    "print(df)"
   ],
   "metadata": {
    "collapsed": false,
    "ExecuteTime": {
     "end_time": "2024-10-09T12:31:49.050194Z",
     "start_time": "2024-10-09T12:31:48.980832Z"
    }
   },
   "id": "a6e387366547ed9e"
  },
  {
   "cell_type": "code",
   "execution_count": 4,
   "outputs": [],
   "source": [
    "\n",
    "str1='asda sdfsad'"
   ],
   "metadata": {
    "collapsed": false,
    "ExecuteTime": {
     "end_time": "2024-10-09T12:31:49.855830Z",
     "start_time": "2024-10-09T12:31:49.798704Z"
    }
   },
   "id": "c661817b360f7924"
  },
  {
   "cell_type": "code",
   "execution_count": 5,
   "outputs": [
    {
     "name": "stdout",
     "output_type": "stream",
     "text": [
      "  name  age\n",
      "0   张三   30\n",
      "1   李四   50\n"
     ]
    }
   ],
   "source": [
    "print(df)"
   ],
   "metadata": {
    "collapsed": false,
    "ExecuteTime": {
     "end_time": "2024-10-09T12:31:51.455544Z",
     "start_time": "2024-10-09T12:31:51.417190Z"
    }
   },
   "id": "cfc9b6766257f601"
  },
  {
   "cell_type": "code",
   "execution_count": 6,
   "outputs": [
    {
     "name": "stdout",
     "output_type": "stream",
     "text": [
      "第0行 张三 30\n",
      "第1行 李四 50\n"
     ]
    }
   ],
   "source": [
    "for index, row in df.iterrows():\n",
    "    # 在这里处理每一行的数据\n",
    "    print(\"第\" + str(index) + \"行\", row['name'], row['age'])"
   ],
   "metadata": {
    "collapsed": false,
    "ExecuteTime": {
     "end_time": "2024-10-09T12:31:53.150093Z",
     "start_time": "2024-10-09T12:31:53.116500Z"
    }
   },
   "id": "bc818f39e06a80e"
  },
  {
   "cell_type": "code",
   "execution_count": null,
   "outputs": [],
   "source": [
    "for index, row in df.iterrows():\n",
    "    # 在这里处理每一行的数据\n",
    "    print(\"第\" + str(index) + \"行\", row['name'], row['age'])"
   ],
   "metadata": {
    "collapsed": false
   },
   "id": "b84ca7cd38c5a584"
  }
 ],
 "metadata": {
  "kernelspec": {
   "display_name": "Python 3",
   "language": "python",
   "name": "python3"
  },
  "language_info": {
   "codemirror_mode": {
    "name": "ipython",
    "version": 2
   },
   "file_extension": ".py",
   "mimetype": "text/x-python",
   "name": "python",
   "nbconvert_exporter": "python",
   "pygments_lexer": "ipython2",
   "version": "2.7.6"
  }
 },
 "nbformat": 4,
 "nbformat_minor": 5
}
